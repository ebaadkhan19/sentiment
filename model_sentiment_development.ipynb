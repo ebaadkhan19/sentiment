{
 "cells": [
  {
   "cell_type": "markdown",
   "id": "2dcfe90a",
   "metadata": {},
   "source": [
    "<br><br><span style='font-size:50px'>Reading and Discovering the Dataset</span>"
   ]
  },
  {
   "cell_type": "code",
   "execution_count": 1,
   "id": "56636a97",
   "metadata": {},
   "outputs": [],
   "source": [
    "import pandas as pd\n",
    "import pickle"
   ]
  },
  {
   "cell_type": "code",
   "execution_count": 2,
   "id": "afbd1d11",
   "metadata": {},
   "outputs": [],
   "source": [
    "data = pd.read_csv('IMDB Dataset.csv')"
   ]
  },
  {
   "cell_type": "code",
   "execution_count": 3,
   "id": "ed0e4ed4",
   "metadata": {},
   "outputs": [
    {
     "data": {
      "text/html": [
       "<div>\n",
       "<style scoped>\n",
       "    .dataframe tbody tr th:only-of-type {\n",
       "        vertical-align: middle;\n",
       "    }\n",
       "\n",
       "    .dataframe tbody tr th {\n",
       "        vertical-align: top;\n",
       "    }\n",
       "\n",
       "    .dataframe thead th {\n",
       "        text-align: right;\n",
       "    }\n",
       "</style>\n",
       "<table border=\"1\" class=\"dataframe\">\n",
       "  <thead>\n",
       "    <tr style=\"text-align: right;\">\n",
       "      <th></th>\n",
       "      <th>review</th>\n",
       "      <th>sentiment</th>\n",
       "    </tr>\n",
       "  </thead>\n",
       "  <tbody>\n",
       "    <tr>\n",
       "      <th>0</th>\n",
       "      <td>One of the other reviewers has mentioned that ...</td>\n",
       "      <td>positive</td>\n",
       "    </tr>\n",
       "    <tr>\n",
       "      <th>1</th>\n",
       "      <td>A wonderful little production. &lt;br /&gt;&lt;br /&gt;The...</td>\n",
       "      <td>positive</td>\n",
       "    </tr>\n",
       "    <tr>\n",
       "      <th>2</th>\n",
       "      <td>I thought this was a wonderful way to spend ti...</td>\n",
       "      <td>positive</td>\n",
       "    </tr>\n",
       "    <tr>\n",
       "      <th>3</th>\n",
       "      <td>Basically there's a family where a little boy ...</td>\n",
       "      <td>negative</td>\n",
       "    </tr>\n",
       "    <tr>\n",
       "      <th>4</th>\n",
       "      <td>Petter Mattei's \"Love in the Time of Money\" is...</td>\n",
       "      <td>positive</td>\n",
       "    </tr>\n",
       "    <tr>\n",
       "      <th>5</th>\n",
       "      <td>Probably my all-time favorite movie, a story o...</td>\n",
       "      <td>positive</td>\n",
       "    </tr>\n",
       "    <tr>\n",
       "      <th>6</th>\n",
       "      <td>I sure would like to see a resurrection of a u...</td>\n",
       "      <td>positive</td>\n",
       "    </tr>\n",
       "    <tr>\n",
       "      <th>7</th>\n",
       "      <td>This show was an amazing, fresh &amp; innovative i...</td>\n",
       "      <td>negative</td>\n",
       "    </tr>\n",
       "    <tr>\n",
       "      <th>8</th>\n",
       "      <td>Encouraged by the positive comments about this...</td>\n",
       "      <td>negative</td>\n",
       "    </tr>\n",
       "    <tr>\n",
       "      <th>9</th>\n",
       "      <td>If you like original gut wrenching laughter yo...</td>\n",
       "      <td>positive</td>\n",
       "    </tr>\n",
       "    <tr>\n",
       "      <th>10</th>\n",
       "      <td>Phil the Alien is one of those quirky films wh...</td>\n",
       "      <td>negative</td>\n",
       "    </tr>\n",
       "    <tr>\n",
       "      <th>11</th>\n",
       "      <td>I saw this movie when I was about 12 when it c...</td>\n",
       "      <td>negative</td>\n",
       "    </tr>\n",
       "    <tr>\n",
       "      <th>12</th>\n",
       "      <td>So im not a big fan of Boll's work but then ag...</td>\n",
       "      <td>negative</td>\n",
       "    </tr>\n",
       "    <tr>\n",
       "      <th>13</th>\n",
       "      <td>The cast played Shakespeare.&lt;br /&gt;&lt;br /&gt;Shakes...</td>\n",
       "      <td>negative</td>\n",
       "    </tr>\n",
       "    <tr>\n",
       "      <th>14</th>\n",
       "      <td>This a fantastic movie of three prisoners who ...</td>\n",
       "      <td>positive</td>\n",
       "    </tr>\n",
       "    <tr>\n",
       "      <th>15</th>\n",
       "      <td>Kind of drawn in by the erotic scenes, only to...</td>\n",
       "      <td>negative</td>\n",
       "    </tr>\n",
       "    <tr>\n",
       "      <th>16</th>\n",
       "      <td>Some films just simply should not be remade. T...</td>\n",
       "      <td>positive</td>\n",
       "    </tr>\n",
       "    <tr>\n",
       "      <th>17</th>\n",
       "      <td>This movie made it into one of my top 10 most ...</td>\n",
       "      <td>negative</td>\n",
       "    </tr>\n",
       "    <tr>\n",
       "      <th>18</th>\n",
       "      <td>I remember this film,it was the first film i h...</td>\n",
       "      <td>positive</td>\n",
       "    </tr>\n",
       "    <tr>\n",
       "      <th>19</th>\n",
       "      <td>An awful film! It must have been up against so...</td>\n",
       "      <td>negative</td>\n",
       "    </tr>\n",
       "  </tbody>\n",
       "</table>\n",
       "</div>"
      ],
      "text/plain": [
       "                                               review sentiment\n",
       "0   One of the other reviewers has mentioned that ...  positive\n",
       "1   A wonderful little production. <br /><br />The...  positive\n",
       "2   I thought this was a wonderful way to spend ti...  positive\n",
       "3   Basically there's a family where a little boy ...  negative\n",
       "4   Petter Mattei's \"Love in the Time of Money\" is...  positive\n",
       "5   Probably my all-time favorite movie, a story o...  positive\n",
       "6   I sure would like to see a resurrection of a u...  positive\n",
       "7   This show was an amazing, fresh & innovative i...  negative\n",
       "8   Encouraged by the positive comments about this...  negative\n",
       "9   If you like original gut wrenching laughter yo...  positive\n",
       "10  Phil the Alien is one of those quirky films wh...  negative\n",
       "11  I saw this movie when I was about 12 when it c...  negative\n",
       "12  So im not a big fan of Boll's work but then ag...  negative\n",
       "13  The cast played Shakespeare.<br /><br />Shakes...  negative\n",
       "14  This a fantastic movie of three prisoners who ...  positive\n",
       "15  Kind of drawn in by the erotic scenes, only to...  negative\n",
       "16  Some films just simply should not be remade. T...  positive\n",
       "17  This movie made it into one of my top 10 most ...  negative\n",
       "18  I remember this film,it was the first film i h...  positive\n",
       "19  An awful film! It must have been up against so...  negative"
      ]
     },
     "execution_count": 3,
     "metadata": {},
     "output_type": "execute_result"
    }
   ],
   "source": [
    "data.head(20)"
   ]
  },
  {
   "cell_type": "code",
   "execution_count": 4,
   "id": "f7d5d257",
   "metadata": {},
   "outputs": [
    {
     "data": {
      "text/html": [
       "<div>\n",
       "<style scoped>\n",
       "    .dataframe tbody tr th:only-of-type {\n",
       "        vertical-align: middle;\n",
       "    }\n",
       "\n",
       "    .dataframe tbody tr th {\n",
       "        vertical-align: top;\n",
       "    }\n",
       "\n",
       "    .dataframe thead th {\n",
       "        text-align: right;\n",
       "    }\n",
       "</style>\n",
       "<table border=\"1\" class=\"dataframe\">\n",
       "  <thead>\n",
       "    <tr style=\"text-align: right;\">\n",
       "      <th></th>\n",
       "      <th>review</th>\n",
       "      <th>sentiment</th>\n",
       "    </tr>\n",
       "  </thead>\n",
       "  <tbody>\n",
       "    <tr>\n",
       "      <th>33059</th>\n",
       "      <td>Hi! Being able to speak Cantonese, I found thi...</td>\n",
       "      <td>positive</td>\n",
       "    </tr>\n",
       "    <tr>\n",
       "      <th>42208</th>\n",
       "      <td>Riveting drama, scripted by William Mastrosimo...</td>\n",
       "      <td>positive</td>\n",
       "    </tr>\n",
       "    <tr>\n",
       "      <th>25807</th>\n",
       "      <td>The Detonator is set in Bucharest where some s...</td>\n",
       "      <td>negative</td>\n",
       "    </tr>\n",
       "    <tr>\n",
       "      <th>47331</th>\n",
       "      <td>This is truly a re-make that should never have...</td>\n",
       "      <td>negative</td>\n",
       "    </tr>\n",
       "    <tr>\n",
       "      <th>45586</th>\n",
       "      <td>In the Fiji islands, the greedy and unscrupulo...</td>\n",
       "      <td>negative</td>\n",
       "    </tr>\n",
       "    <tr>\n",
       "      <th>16195</th>\n",
       "      <td>Let me start by saying that \"War, Inc\" is not ...</td>\n",
       "      <td>positive</td>\n",
       "    </tr>\n",
       "    <tr>\n",
       "      <th>29236</th>\n",
       "      <td>I really enjoyed this film. I'm not usually on...</td>\n",
       "      <td>positive</td>\n",
       "    </tr>\n",
       "    <tr>\n",
       "      <th>7605</th>\n",
       "      <td>I found it real shocking at first to see Willi...</td>\n",
       "      <td>positive</td>\n",
       "    </tr>\n",
       "    <tr>\n",
       "      <th>25727</th>\n",
       "      <td>This is probably one of the worst movies I hav...</td>\n",
       "      <td>negative</td>\n",
       "    </tr>\n",
       "    <tr>\n",
       "      <th>29386</th>\n",
       "      <td>Wow, I haven't seen a movie this bad since \"Fi...</td>\n",
       "      <td>negative</td>\n",
       "    </tr>\n",
       "  </tbody>\n",
       "</table>\n",
       "</div>"
      ],
      "text/plain": [
       "                                                  review sentiment\n",
       "33059  Hi! Being able to speak Cantonese, I found thi...  positive\n",
       "42208  Riveting drama, scripted by William Mastrosimo...  positive\n",
       "25807  The Detonator is set in Bucharest where some s...  negative\n",
       "47331  This is truly a re-make that should never have...  negative\n",
       "45586  In the Fiji islands, the greedy and unscrupulo...  negative\n",
       "16195  Let me start by saying that \"War, Inc\" is not ...  positive\n",
       "29236  I really enjoyed this film. I'm not usually on...  positive\n",
       "7605   I found it real shocking at first to see Willi...  positive\n",
       "25727  This is probably one of the worst movies I hav...  negative\n",
       "29386  Wow, I haven't seen a movie this bad since \"Fi...  negative"
      ]
     },
     "execution_count": 4,
     "metadata": {},
     "output_type": "execute_result"
    }
   ],
   "source": [
    "data.sample(10)"
   ]
  },
  {
   "cell_type": "code",
   "execution_count": 5,
   "id": "b5a090ff",
   "metadata": {},
   "outputs": [
    {
     "name": "stdout",
     "output_type": "stream",
     "text": [
      "<class 'pandas.core.frame.DataFrame'>\n",
      "RangeIndex: 50000 entries, 0 to 49999\n",
      "Data columns (total 2 columns):\n",
      " #   Column     Non-Null Count  Dtype \n",
      "---  ------     --------------  ----- \n",
      " 0   review     50000 non-null  object\n",
      " 1   sentiment  50000 non-null  object\n",
      "dtypes: object(2)\n",
      "memory usage: 781.4+ KB\n"
     ]
    }
   ],
   "source": [
    "data.info()"
   ]
  },
  {
   "cell_type": "code",
   "execution_count": 6,
   "id": "080b46c7",
   "metadata": {},
   "outputs": [
    {
     "data": {
      "text/plain": [
       "418"
      ]
     },
     "execution_count": 6,
     "metadata": {},
     "output_type": "execute_result"
    }
   ],
   "source": [
    "data.duplicated().sum()"
   ]
  },
  {
   "cell_type": "code",
   "execution_count": 7,
   "id": "c6b5fef9",
   "metadata": {},
   "outputs": [],
   "source": [
    "# duplicated_values = data[data['review'].duplicated()]['review']\n",
    "# duplicated_values"
   ]
  },
  {
   "cell_type": "code",
   "execution_count": 8,
   "id": "34cd181e",
   "metadata": {},
   "outputs": [],
   "source": [
    "data = data.drop_duplicates(subset=['review']).reset_index(drop=True)"
   ]
  },
  {
   "cell_type": "code",
   "execution_count": 9,
   "id": "5f7dc80f",
   "metadata": {},
   "outputs": [
    {
     "data": {
      "text/plain": [
       "positive    24884\n",
       "negative    24698\n",
       "Name: sentiment, dtype: int64"
      ]
     },
     "execution_count": 9,
     "metadata": {},
     "output_type": "execute_result"
    }
   ],
   "source": [
    "data['sentiment'].value_counts()"
   ]
  },
  {
   "cell_type": "code",
   "execution_count": 10,
   "id": "4a4be001",
   "metadata": {},
   "outputs": [],
   "source": [
    "import matplotlib.pyplot as plt"
   ]
  },
  {
   "cell_type": "code",
   "execution_count": 11,
   "id": "72a63b30",
   "metadata": {},
   "outputs": [
    {
     "data": {
      "text/plain": [
       "<function matplotlib.pyplot.show(close=None, block=None)>"
      ]
     },
     "execution_count": 11,
     "metadata": {},
     "output_type": "execute_result"
    },
    {
     "data": {
      "image/png": "[encoded data removed]",
      "text/plain": [
       "<Figure size 640x480 with 1 Axes>"
      ]
     },
     "metadata": {},
     "output_type": "display_data"
    }
   ],
   "source": [
    "data_dist = [\n",
    "    len(data[data['sentiment']=='positive']),\n",
    "    len(data[data['sentiment']=='negative'])\n",
    "]\n",
    "labels = ['Positive','Negative']\n",
    "plt.pie(data_dist, labels = labels)\n",
    "plt.show"
   ]
  },
  {
   "cell_type": "markdown",
   "id": "bf629611",
   "metadata": {},
   "source": [
    "<br><br><span style='font-size:50px'>Data Preprocessing</span>"
   ]
  },
  {
   "cell_type": "code",
   "execution_count": 12,
   "id": "46e74915",
   "metadata": {},
   "outputs": [],
   "source": [
    "import re"
   ]
  },
  {
   "cell_type": "markdown",
   "id": "bf53228c",
   "metadata": {},
   "source": [
    "<br><br><span style='font-size:30px'>Removing HTML Tags</span>"
   ]
  },
  {
   "cell_type": "code",
   "execution_count": 13,
   "id": "6f8f819c",
   "metadata": {},
   "outputs": [],
   "source": [
    "def removeHTML(text):\n",
    "    text = re.sub(r'<[^>]*>', '', text)\n",
    "    return(text)"
   ]
  },
  {
   "cell_type": "markdown",
   "id": "f931c079",
   "metadata": {},
   "source": [
    "<br><br><span style='font-size:30px'>Removing Stop Words</span>"
   ]
  },
  {
   "cell_type": "code",
   "execution_count": 14,
   "id": "a4d1846c",
   "metadata": {},
   "outputs": [],
   "source": [
    "from nltk.corpus import stopwords \n",
    "stop_words = stopwords.words('english') "
   ]
  },
  {
   "cell_type": "code",
   "execution_count": 15,
   "id": "ce2fe041",
   "metadata": {},
   "outputs": [],
   "source": [
    "def removeStopWords(text):\n",
    "    words = text.lower().split()\n",
    "    filtered_words = [word for word in words if word not in stop_words]\n",
    "    text = ' '.join(filtered_words)\n",
    "    return(text)"
   ]
  },
  {
   "cell_type": "markdown",
   "id": "616ed49a",
   "metadata": {},
   "source": [
    "<br><br><span style='font-size:30px'>Text Lemmatizing</span>"
   ]
  },
  {
   "cell_type": "code",
   "execution_count": 16,
   "id": "86ecb81c",
   "metadata": {},
   "outputs": [
    {
     "name": "stderr",
     "output_type": "stream",
     "text": [
      "[nltk_data] Error loading wordnet: <urlopen error [WinError 10060] A\n",
      "[nltk_data]     connection attempt failed because the connected party\n",
      "[nltk_data]     did not properly respond after a period of time, or\n",
      "[nltk_data]     established connection failed because connected host\n",
      "[nltk_data]     has failed to respond>\n"
     ]
    }
   ],
   "source": [
    "import nltk\n",
    "from nltk.stem import WordNetLemmatizer\n",
    "nltk.download('wordnet')\n",
    "lemmatizer = WordNetLemmatizer()"
   ]
  },
  {
   "cell_type": "code",
   "execution_count": 17,
   "id": "d7428927",
   "metadata": {},
   "outputs": [],
   "source": [
    "def Lemmatizing(text):\n",
    "    text = lemmatizer.lemmatize(text)\n",
    "    return(text)"
   ]
  },
  {
   "cell_type": "markdown",
   "id": "ed77cadd",
   "metadata": {},
   "source": [
    "<br><br><span style='font-size:30px'>Removing Noise</span>"
   ]
  },
  {
   "cell_type": "code",
   "execution_count": 18,
   "id": "8725ef49",
   "metadata": {},
   "outputs": [],
   "source": [
    "def removeNoise(text):\n",
    "    text = re.sub(r'[^a-zA-Z\\s]+', '', text) # Only keep English letters\n",
    "    text = re.sub(r'(\\w)\\1{2,}', r'\\1', text)   #Normalize Repeated Letters\n",
    "    text = re.sub(r'\\s{2,}', ' ', text).strip() # Removing extra spaces\n",
    "    return(text)"
   ]
  },
  {
   "cell_type": "markdown",
   "id": "3b7e13c4",
   "metadata": {},
   "source": [
    "<br><br><br><br><span style='font-size:50px'>Adding New Column for the Cleaned Text</span>"
   ]
  },
  {
   "cell_type": "code",
   "execution_count": 19,
   "id": "658a8e6b",
   "metadata": {},
   "outputs": [],
   "source": [
    "CleanedText = []"
   ]
  },
  {
   "cell_type": "code",
   "execution_count": 20,
   "id": "a113f957",
   "metadata": {},
   "outputs": [],
   "source": [
    "for i in range(len(data)):\n",
    "    text = data.review[i]\n",
    "    text = removeHTML(text)\n",
    "    text = removeStopWords(text)\n",
    "    text = Lemmatizing(text)\n",
    "    text = removeNoise(text)\n",
    "    CleanedText.append(text)"
   ]
  },
  {
   "cell_type": "code",
   "execution_count": 21,
   "id": "f629f2e1",
   "metadata": {
    "scrolled": true
   },
   "outputs": [],
   "source": [
    "data['CleanedText'] = CleanedText"
   ]
  },
  {
   "cell_type": "code",
   "execution_count": 22,
   "id": "6271df73",
   "metadata": {},
   "outputs": [],
   "source": [
    "#data = data.drop(['CleanedText'],axis=1)"
   ]
  },
  {
   "cell_type": "code",
   "execution_count": 23,
   "id": "f5800307",
   "metadata": {},
   "outputs": [
    {
     "data": {
      "text/html": [
       "<div>\n",
       "<style scoped>\n",
       "    .dataframe tbody tr th:only-of-type {\n",
       "        vertical-align: middle;\n",
       "    }\n",
       "\n",
       "    .dataframe tbody tr th {\n",
       "        vertical-align: top;\n",
       "    }\n",
       "\n",
       "    .dataframe thead th {\n",
       "        text-align: right;\n",
       "    }\n",
       "</style>\n",
       "<table border=\"1\" class=\"dataframe\">\n",
       "  <thead>\n",
       "    <tr style=\"text-align: right;\">\n",
       "      <th></th>\n",
       "      <th>review</th>\n",
       "      <th>sentiment</th>\n",
       "      <th>CleanedText</th>\n",
       "    </tr>\n",
       "  </thead>\n",
       "  <tbody>\n",
       "    <tr>\n",
       "      <th>0</th>\n",
       "      <td>One of the other reviewers has mentioned that ...</td>\n",
       "      <td>positive</td>\n",
       "      <td>one reviewers mentioned watching oz episode ho...</td>\n",
       "    </tr>\n",
       "    <tr>\n",
       "      <th>1</th>\n",
       "      <td>A wonderful little production. &lt;br /&gt;&lt;br /&gt;The...</td>\n",
       "      <td>positive</td>\n",
       "      <td>wonderful little production filming technique ...</td>\n",
       "    </tr>\n",
       "    <tr>\n",
       "      <th>2</th>\n",
       "      <td>I thought this was a wonderful way to spend ti...</td>\n",
       "      <td>positive</td>\n",
       "      <td>thought wonderful way spend time hot summer we...</td>\n",
       "    </tr>\n",
       "    <tr>\n",
       "      <th>3</th>\n",
       "      <td>Basically there's a family where a little boy ...</td>\n",
       "      <td>negative</td>\n",
       "      <td>basically theres family little boy jake thinks...</td>\n",
       "    </tr>\n",
       "    <tr>\n",
       "      <th>4</th>\n",
       "      <td>Petter Mattei's \"Love in the Time of Money\" is...</td>\n",
       "      <td>positive</td>\n",
       "      <td>petter matteis love time money visually stunni...</td>\n",
       "    </tr>\n",
       "  </tbody>\n",
       "</table>\n",
       "</div>"
      ],
      "text/plain": [
       "                                              review sentiment  \\\n",
       "0  One of the other reviewers has mentioned that ...  positive   \n",
       "1  A wonderful little production. <br /><br />The...  positive   \n",
       "2  I thought this was a wonderful way to spend ti...  positive   \n",
       "3  Basically there's a family where a little boy ...  negative   \n",
       "4  Petter Mattei's \"Love in the Time of Money\" is...  positive   \n",
       "\n",
       "                                         CleanedText  \n",
       "0  one reviewers mentioned watching oz episode ho...  \n",
       "1  wonderful little production filming technique ...  \n",
       "2  thought wonderful way spend time hot summer we...  \n",
       "3  basically theres family little boy jake thinks...  \n",
       "4  petter matteis love time money visually stunni...  "
      ]
     },
     "execution_count": 23,
     "metadata": {},
     "output_type": "execute_result"
    }
   ],
   "source": [
    "data.head()"
   ]
  },
  {
   "cell_type": "code",
   "execution_count": 24,
   "id": "c28a44bc",
   "metadata": {},
   "outputs": [
    {
     "data": {
      "text/html": [
       "<div>\n",
       "<style scoped>\n",
       "    .dataframe tbody tr th:only-of-type {\n",
       "        vertical-align: middle;\n",
       "    }\n",
       "\n",
       "    .dataframe tbody tr th {\n",
       "        vertical-align: top;\n",
       "    }\n",
       "\n",
       "    .dataframe thead th {\n",
       "        text-align: right;\n",
       "    }\n",
       "</style>\n",
       "<table border=\"1\" class=\"dataframe\">\n",
       "  <thead>\n",
       "    <tr style=\"text-align: right;\">\n",
       "      <th></th>\n",
       "      <th>review</th>\n",
       "      <th>sentiment</th>\n",
       "      <th>CleanedText</th>\n",
       "    </tr>\n",
       "  </thead>\n",
       "  <tbody>\n",
       "    <tr>\n",
       "      <th>16435</th>\n",
       "      <td>Movie didn't have much plot and was uninterest...</td>\n",
       "      <td>negative</td>\n",
       "      <td>movie much plot uninteresting basically spend ...</td>\n",
       "    </tr>\n",
       "    <tr>\n",
       "      <th>7622</th>\n",
       "      <td>...but it's still an entertaining TV movie. Th...</td>\n",
       "      <td>positive</td>\n",
       "      <td>but still entertaining tv movie transposition ...</td>\n",
       "    </tr>\n",
       "    <tr>\n",
       "      <th>25288</th>\n",
       "      <td>First, I'm a huge Buddy Holly fan. I grew up k...</td>\n",
       "      <td>positive</td>\n",
       "      <td>first im huge buddy holly fan grew knowing was...</td>\n",
       "    </tr>\n",
       "    <tr>\n",
       "      <th>20620</th>\n",
       "      <td>Black Scorpion is a fun flick about a groovy f...</td>\n",
       "      <td>positive</td>\n",
       "      <td>black scorpion fun flick groovy female super h...</td>\n",
       "    </tr>\n",
       "    <tr>\n",
       "      <th>37307</th>\n",
       "      <td>Maybe it's because I'm no fan of the comics (b...</td>\n",
       "      <td>negative</td>\n",
       "      <td>maybe im fan comics but comics quality movie h...</td>\n",
       "    </tr>\n",
       "    <tr>\n",
       "      <th>37000</th>\n",
       "      <td>When one stops to recollect upon the frequent ...</td>\n",
       "      <td>positive</td>\n",
       "      <td>one stops recollect upon frequent screen teami...</td>\n",
       "    </tr>\n",
       "    <tr>\n",
       "      <th>43923</th>\n",
       "      <td>Superb movie. Very good photography of 1969/70...</td>\n",
       "      <td>positive</td>\n",
       "      <td>superb movie good photography bolton seems dif...</td>\n",
       "    </tr>\n",
       "    <tr>\n",
       "      <th>25402</th>\n",
       "      <td>This film is about a mysterious love letter th...</td>\n",
       "      <td>negative</td>\n",
       "      <td>film mysterious love letter turned peoples lov...</td>\n",
       "    </tr>\n",
       "    <tr>\n",
       "      <th>36979</th>\n",
       "      <td>\"The Garden of Allah\" was one of the first fea...</td>\n",
       "      <td>positive</td>\n",
       "      <td>the garden allah one first feature length stri...</td>\n",
       "    </tr>\n",
       "    <tr>\n",
       "      <th>5942</th>\n",
       "      <td>Talking about competition features at the Spli...</td>\n",
       "      <td>positive</td>\n",
       "      <td>talking competition features split film festiv...</td>\n",
       "    </tr>\n",
       "    <tr>\n",
       "      <th>38067</th>\n",
       "      <td>I am so disappointed in this movie I can't exp...</td>\n",
       "      <td>negative</td>\n",
       "      <td>disappointed movie cant express it excited sta...</td>\n",
       "    </tr>\n",
       "    <tr>\n",
       "      <th>10358</th>\n",
       "      <td>When you read the summary of this film, you mi...</td>\n",
       "      <td>positive</td>\n",
       "      <td>read summary film might come think something o...</td>\n",
       "    </tr>\n",
       "    <tr>\n",
       "      <th>5341</th>\n",
       "      <td>This has to be one of the all time greatest ho...</td>\n",
       "      <td>negative</td>\n",
       "      <td>one time greatest horror movies charles band m...</td>\n",
       "    </tr>\n",
       "    <tr>\n",
       "      <th>10783</th>\n",
       "      <td>When we talk Hollywood Hotel we could be talki...</td>\n",
       "      <td>positive</td>\n",
       "      <td>talk hollywood hotel could talking one three t...</td>\n",
       "    </tr>\n",
       "    <tr>\n",
       "      <th>17157</th>\n",
       "      <td>This was the first feature film for just about...</td>\n",
       "      <td>negative</td>\n",
       "      <td>first feature film everyone involved including...</td>\n",
       "    </tr>\n",
       "    <tr>\n",
       "      <th>49533</th>\n",
       "      <td>Our America is multi-cultural, with so many su...</td>\n",
       "      <td>positive</td>\n",
       "      <td>america multicultural many subcultures movie s...</td>\n",
       "    </tr>\n",
       "    <tr>\n",
       "      <th>15393</th>\n",
       "      <td>The Prophecy II, what's there to say about it?...</td>\n",
       "      <td>negative</td>\n",
       "      <td>prophecy ii whats say it theyve completely aba...</td>\n",
       "    </tr>\n",
       "    <tr>\n",
       "      <th>11763</th>\n",
       "      <td>To regard the film as nothing more than a docu...</td>\n",
       "      <td>positive</td>\n",
       "      <td>regard film nothing documentary skateboarding ...</td>\n",
       "    </tr>\n",
       "    <tr>\n",
       "      <th>40073</th>\n",
       "      <td>If you are a bit masochistic and like to waste...</td>\n",
       "      <td>negative</td>\n",
       "      <td>bit masochistic like waste time try one wasted...</td>\n",
       "    </tr>\n",
       "    <tr>\n",
       "      <th>33367</th>\n",
       "      <td>Imagine that \"Dragnet\" episode where Friday an...</td>\n",
       "      <td>positive</td>\n",
       "      <td>imagine dragnet episode friday gannon go typic...</td>\n",
       "    </tr>\n",
       "  </tbody>\n",
       "</table>\n",
       "</div>"
      ],
      "text/plain": [
       "                                                  review sentiment  \\\n",
       "16435  Movie didn't have much plot and was uninterest...  negative   \n",
       "7622   ...but it's still an entertaining TV movie. Th...  positive   \n",
       "25288  First, I'm a huge Buddy Holly fan. I grew up k...  positive   \n",
       "20620  Black Scorpion is a fun flick about a groovy f...  positive   \n",
       "37307  Maybe it's because I'm no fan of the comics (b...  negative   \n",
       "37000  When one stops to recollect upon the frequent ...  positive   \n",
       "43923  Superb movie. Very good photography of 1969/70...  positive   \n",
       "25402  This film is about a mysterious love letter th...  negative   \n",
       "36979  \"The Garden of Allah\" was one of the first fea...  positive   \n",
       "5942   Talking about competition features at the Spli...  positive   \n",
       "38067  I am so disappointed in this movie I can't exp...  negative   \n",
       "10358  When you read the summary of this film, you mi...  positive   \n",
       "5341   This has to be one of the all time greatest ho...  negative   \n",
       "10783  When we talk Hollywood Hotel we could be talki...  positive   \n",
       "17157  This was the first feature film for just about...  negative   \n",
       "49533  Our America is multi-cultural, with so many su...  positive   \n",
       "15393  The Prophecy II, what's there to say about it?...  negative   \n",
       "11763  To regard the film as nothing more than a docu...  positive   \n",
       "40073  If you are a bit masochistic and like to waste...  negative   \n",
       "33367  Imagine that \"Dragnet\" episode where Friday an...  positive   \n",
       "\n",
       "                                             CleanedText  \n",
       "16435  movie much plot uninteresting basically spend ...  \n",
       "7622   but still entertaining tv movie transposition ...  \n",
       "25288  first im huge buddy holly fan grew knowing was...  \n",
       "20620  black scorpion fun flick groovy female super h...  \n",
       "37307  maybe im fan comics but comics quality movie h...  \n",
       "37000  one stops recollect upon frequent screen teami...  \n",
       "43923  superb movie good photography bolton seems dif...  \n",
       "25402  film mysterious love letter turned peoples lov...  \n",
       "36979  the garden allah one first feature length stri...  \n",
       "5942   talking competition features split film festiv...  \n",
       "38067  disappointed movie cant express it excited sta...  \n",
       "10358  read summary film might come think something o...  \n",
       "5341   one time greatest horror movies charles band m...  \n",
       "10783  talk hollywood hotel could talking one three t...  \n",
       "17157  first feature film everyone involved including...  \n",
       "49533  america multicultural many subcultures movie s...  \n",
       "15393  prophecy ii whats say it theyve completely aba...  \n",
       "11763  regard film nothing documentary skateboarding ...  \n",
       "40073  bit masochistic like waste time try one wasted...  \n",
       "33367  imagine dragnet episode friday gannon go typic...  "
      ]
     },
     "execution_count": 24,
     "metadata": {},
     "output_type": "execute_result"
    }
   ],
   "source": [
    "data.sample(20)"
   ]
  },
  {
   "cell_type": "markdown",
   "id": "3b8366d4",
   "metadata": {},
   "source": [
    "<br><br><span style='font-size:50px'>Splitting Data into Training and Testing</span>"
   ]
  },
  {
   "cell_type": "code",
   "execution_count": 25,
   "id": "44745b7c",
   "metadata": {},
   "outputs": [],
   "source": [
    "from sklearn.model_selection import train_test_split"
   ]
  },
  {
   "cell_type": "code",
   "execution_count": 26,
   "id": "2a38be35",
   "metadata": {},
   "outputs": [],
   "source": [
    "train, test = train_test_split(data, test_size=0.2, random_state=0)"
   ]
  },
  {
   "cell_type": "markdown",
   "id": "186ac811",
   "metadata": {},
   "source": [
    "<br><br><span style='font-size:50px'>Feature Extraction using TF-IDF Vectorizer</span>"
   ]
  },
  {
   "cell_type": "code",
   "execution_count": 27,
   "id": "c90af4fe",
   "metadata": {},
   "outputs": [],
   "source": [
    "from sklearn.feature_extraction.text import TfidfVectorizer\n",
    "\n",
    "vectorizer = TfidfVectorizer()"
   ]
  },
  {
   "cell_type": "code",
   "execution_count": 28,
   "id": "2ae13d96",
   "metadata": {},
   "outputs": [],
   "source": [
    "X_train = vectorizer.fit_transform(train['CleanedText'])\n",
    "pickle.dump(vectorizer,open(\"vectorizer.pkl\",\"wb\"))\n",
    "\n",
    "X_test = vectorizer.transform(test['CleanedText'])"
   ]
  },
  {
   "cell_type": "markdown",
   "id": "756b153a",
   "metadata": {},
   "source": [
    "<br><br><span style='font-size:50px'>Model Building & Evaluation</span>"
   ]
  },
  {
   "cell_type": "code",
   "execution_count": 29,
   "id": "829297a1",
   "metadata": {},
   "outputs": [],
   "source": [
    "from sklearn.metrics import classification_report,f1_score,accuracy_score"
   ]
  },
  {
   "cell_type": "markdown",
   "id": "19c3a8e8",
   "metadata": {},
   "source": [
    "<br><br><span style='font-size:30px'>Random Forest</span>"
   ]
  },
  {
   "cell_type": "code",
   "execution_count": 30,
   "id": "d01a03a9",
   "metadata": {},
   "outputs": [],
   "source": [
    "from sklearn.ensemble import RandomForestClassifier"
   ]
  },
  {
   "cell_type": "code",
   "execution_count": 31,
   "id": "93094c7f",
   "metadata": {},
   "outputs": [
    {
     "data": {
      "text/html": [
       "<style>#sk-container-id-1 {color: black;background-color: white;}#sk-container-id-1 pre{padding: 0;}#sk-container-id-1 div.sk-toggleable {background-color: white;}#sk-container-id-1 label.sk-toggleable__label {cursor: pointer;display: block;width: 100%;margin-bottom: 0;padding: 0.3em;box-sizing: border-box;text-align: center;}#sk-container-id-1 label.sk-toggleable__label-arrow:before {content: \"▸\";float: left;margin-right: 0.25em;color: #696969;}#sk-container-id-1 label.sk-toggleable__label-arrow:hover:before {color: black;}#sk-container-id-1 div.sk-estimator:hover label.sk-toggleable__label-arrow:before {color: black;}#sk-container-id-1 div.sk-toggleable__content {max-height: 0;max-width: 0;overflow: hidden;text-align: left;background-color: #f0f8ff;}#sk-container-id-1 div.sk-toggleable__content pre {margin: 0.2em;color: black;border-radius: 0.25em;background-color: #f0f8ff;}#sk-container-id-1 input.sk-toggleable__control:checked~div.sk-toggleable__content {max-height: 200px;max-width: 100%;overflow: auto;}#sk-container-id-1 input.sk-toggleable__control:checked~label.sk-toggleable__label-arrow:before {content: \"▾\";}#sk-container-id-1 div.sk-estimator input.sk-toggleable__control:checked~label.sk-toggleable__label {background-color: #d4ebff;}#sk-container-id-1 div.sk-label input.sk-toggleable__control:checked~label.sk-toggleable__label {background-color: #d4ebff;}#sk-container-id-1 input.sk-hidden--visually {border: 0;clip: rect(1px 1px 1px 1px);clip: rect(1px, 1px, 1px, 1px);height: 1px;margin: -1px;overflow: hidden;padding: 0;position: absolute;width: 1px;}#sk-container-id-1 div.sk-estimator {font-family: monospace;background-color: #f0f8ff;border: 1px dotted black;border-radius: 0.25em;box-sizing: border-box;margin-bottom: 0.5em;}#sk-container-id-1 div.sk-estimator:hover {background-color: #d4ebff;}#sk-container-id-1 div.sk-parallel-item::after {content: \"\";width: 100%;border-bottom: 1px solid gray;flex-grow: 1;}#sk-container-id-1 div.sk-label:hover label.sk-toggleable__label {background-color: #d4ebff;}#sk-container-id-1 div.sk-serial::before {content: \"\";position: absolute;border-left: 1px solid gray;box-sizing: border-box;top: 0;bottom: 0;left: 50%;z-index: 0;}#sk-container-id-1 div.sk-serial {display: flex;flex-direction: column;align-items: center;background-color: white;padding-right: 0.2em;padding-left: 0.2em;position: relative;}#sk-container-id-1 div.sk-item {position: relative;z-index: 1;}#sk-container-id-1 div.sk-parallel {display: flex;align-items: stretch;justify-content: center;background-color: white;position: relative;}#sk-container-id-1 div.sk-item::before, #sk-container-id-1 div.sk-parallel-item::before {content: \"\";position: absolute;border-left: 1px solid gray;box-sizing: border-box;top: 0;bottom: 0;left: 50%;z-index: -1;}#sk-container-id-1 div.sk-parallel-item {display: flex;flex-direction: column;z-index: 1;position: relative;background-color: white;}#sk-container-id-1 div.sk-parallel-item:first-child::after {align-self: flex-end;width: 50%;}#sk-container-id-1 div.sk-parallel-item:last-child::after {align-self: flex-start;width: 50%;}#sk-container-id-1 div.sk-parallel-item:only-child::after {width: 0;}#sk-container-id-1 div.sk-dashed-wrapped {border: 1px dashed gray;margin: 0 0.4em 0.5em 0.4em;box-sizing: border-box;padding-bottom: 0.4em;background-color: white;}#sk-container-id-1 div.sk-label label {font-family: monospace;font-weight: bold;display: inline-block;line-height: 1.2em;}#sk-container-id-1 div.sk-label-container {text-align: center;}#sk-container-id-1 div.sk-container {/* jupyter's `normalize.less` sets `[hidden] { display: none; }` but bootstrap.min.css set `[hidden] { display: none !important; }` so we also need the `!important` here to be able to override the default hidden behavior on the sphinx rendered scikit-learn.org. See: https://github.com/scikit-learn/scikit-learn/issues/21755 */display: inline-block !important;position: relative;}#sk-container-id-1 div.sk-text-repr-fallback {display: none;}</style><div id=\"sk-container-id-1\" class=\"sk-top-container\"><div class=\"sk-text-repr-fallback\"><pre>RandomForestClassifier(n_jobs=-1, random_state=0)</pre><b>In a Jupyter environment, please rerun this cell to show the HTML representation or trust the notebook. <br />On GitHub, the HTML representation is unable to render, please try loading this page with nbviewer.org.</b></div><div class=\"sk-container\" hidden><div class=\"sk-item\"><div class=\"sk-estimator sk-toggleable\"><input class=\"sk-toggleable__control sk-hidden--visually\" id=\"sk-estimator-id-1\" type=\"checkbox\" checked><label for=\"sk-estimator-id-1\" class=\"sk-toggleable__label sk-toggleable__label-arrow\">RandomForestClassifier</label><div class=\"sk-toggleable__content\"><pre>RandomForestClassifier(n_jobs=-1, random_state=0)</pre></div></div></div></div></div>"
      ],
      "text/plain": [
       "RandomForestClassifier(n_jobs=-1, random_state=0)"
      ]
     },
     "execution_count": 31,
     "metadata": {},
     "output_type": "execute_result"
    }
   ],
   "source": [
    "rf = RandomForestClassifier(random_state=0,n_jobs=-1)\n",
    "rf.fit(X_train, train['sentiment'])"
   ]
  },
  {
   "cell_type": "code",
   "execution_count": 32,
   "id": "8f0b66af",
   "metadata": {},
   "outputs": [],
   "source": [
    "pred_y_rf = rf.predict(X_test)"
   ]
  },
  {
   "cell_type": "code",
   "execution_count": 33,
   "id": "8f6dc7e7",
   "metadata": {},
   "outputs": [
    {
     "name": "stdout",
     "output_type": "stream",
     "text": [
      "Classification Report:\n",
      "\n",
      "              precision    recall  f1-score   support\n",
      "\n",
      "    negative       0.85      0.85      0.85      4909\n",
      "    positive       0.86      0.85      0.85      5008\n",
      "\n",
      "    accuracy                           0.85      9917\n",
      "   macro avg       0.85      0.85      0.85      9917\n",
      "weighted avg       0.85      0.85      0.85      9917\n",
      "\n",
      "____________________________________________________________________________________________________\n",
      "Accuracy: 0.8504588081072905\n",
      "____________________________________________________________________________________________________\n",
      "F1 Score: 0.8504625335452527\n"
     ]
    }
   ],
   "source": [
    "print('Classification Report:\\n')\n",
    "print(classification_report(test['sentiment'], pred_y_rf))\n",
    "print('_'*100)\n",
    "print('Accuracy:',accuracy_score(test['sentiment'], pred_y_rf))\n",
    "print('_'*100)\n",
    "print('F1 Score:',f1_score(test['sentiment'], pred_y_rf, average='weighted'))"
   ]
  },
  {
   "cell_type": "code",
   "execution_count": 34,
   "id": "32374503",
   "metadata": {},
   "outputs": [],
   "source": [
    "with open(\"model_sentiment.pkl\", \"wb\") as f:\n",
    "    pickle.dump(rf, f)"
   ]
  },
  {
   "cell_type": "code",
   "execution_count": null,
   "id": "91e78115",
   "metadata": {},
   "outputs": [],
   "source": []
  },
  {
   "cell_type": "code",
   "execution_count": null,
   "id": "efe898a7",
   "metadata": {},
   "outputs": [],
   "source": []
  },
  {
   "cell_type": "code",
   "execution_count": null,
   "id": "5431e18c",
   "metadata": {},
   "outputs": [],
   "source": []
  },
  {
   "cell_type": "code",
   "execution_count": null,
   "id": "565cb154",
   "metadata": {},
   "outputs": [],
   "source": []
  }
 ],
 "metadata": {
  "kernelspec": {
   "display_name": "Python 3 (ipykernel)",
   "language": "python",
   "name": "python3"
  },
  "language_info": {
   "codemirror_mode": {
    "name": "ipython",
    "version": 3
   },
   "file_extension": ".py",
   "mimetype": "text/x-python",
   "name": "python",
   "nbconvert_exporter": "python",
   "pygments_lexer": "ipython3",
   "version": "3.10.9"
  }
 },
 "nbformat": 4,
 "nbformat_minor": 5
}
